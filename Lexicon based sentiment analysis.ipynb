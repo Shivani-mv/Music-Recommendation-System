{
 "cells": [
  {
   "cell_type": "markdown",
   "id": "fa1bd3c6",
   "metadata": {},
   "source": [
    "# Lexicon Based sentiment analysis and music recommendation system"
   ]
  },
  {
   "cell_type": "code",
   "execution_count": 1,
   "id": "9cf62e75",
   "metadata": {},
   "outputs": [],
   "source": [
    "# import required packages\n",
    "import csv\n",
    "import ast\n",
    "import nltk\n",
    "from nltk.corpus import stopwords\n",
    "from collections import Counter \n",
    "from random import randint\n",
    "\n",
    "def sentiment_analysis(output):\n",
    "    if str(output) == \"P\":\n",
    "        return \"Positive\"\n",
    "    if str(output) == \"N\":\n",
    "        return \"Negative\"\n",
    "    if str(output) == \"A\":\n",
    "        return \"Neutral\"\n",
    "    \n",
    "def recommendation_system(score):\n",
    "    file_open = open(\"songs.txt\")\n",
    "    song = file_open.read()\n",
    "    collection = ast.literal_eval(song)\n",
    "    if score>0:\n",
    "        songs_positive=[i for i in collection if i[\"Sentiment\"]=='P']\n",
    "        return songs_positive[randint(0,len(songs_positive)-1)][\"Songs\"]\n",
    "    elif score<1:\n",
    "        songs_negative=[i for i in collection if i[\"Sentiment\"]=='N']\n",
    "        return songs_negative[randint(0,len(songs_negative)-1)][\"Songs\"]\n",
    "    else:\n",
    "        songs_neutral=[i for i in collection if i[\"Sentiment\"]=='A']\n",
    "        return songs_negative[randint(0,len(songs_neutral)-1)][\"Songs\"]"
   ]
  },
  {
   "cell_type": "code",
   "execution_count": 2,
   "id": "b551570f",
   "metadata": {},
   "outputs": [],
   "source": [
    "file_open = open(\"sentiment.txt\")\n",
    "tweets = file_open.read()\n",
    "lexicon = dict()"
   ]
  },
  {
   "cell_type": "code",
   "execution_count": 3,
   "id": "58520940",
   "metadata": {},
   "outputs": [
    {
     "name": "stdout",
     "output_type": "stream",
     "text": [
      "Score of the tweet:  -2\n",
      "Sentiment:  Negative\n",
      "\n",
      "Recommended songs:  Lonely,\n",
      "Homesick,\n",
      "Hurt,\n",
      "Only Love Can Break Your Heart,\n",
      "Teardrop,\n",
      "No Distance Left to Run,\n",
      "Broken wings,\n",
      "So far away,\n",
      "Wish you were here,\n",
      "All I Could Do Was Cry,\n",
      "Tears in Heaven\n",
      "\n"
     ]
    }
   ],
   "source": [
    "# Read in the lexicon. \n",
    "with open('lexicon_easy.csv', 'rt') as csvfile:\n",
    "    reader = csv.reader(csvfile, delimiter=',')\n",
    "    for row in reader:\n",
    "        lexicon[row[0]] = int(row[1])\n",
    "# Use lexicon to score tweets\n",
    "score = 0\n",
    "for word in tweets.split():\n",
    "    if word in lexicon:\n",
    "        score = score + lexicon[word]\n",
    "    if (score > 0):\n",
    "        sentiment = 'P'\n",
    "    elif (score < 0):\n",
    "        sentiment = 'N'\n",
    "    else:\n",
    "        sentiment = 'A'\n",
    "\n",
    "print(\"Score of the tweet: \",score)\n",
    "print(\"Sentiment: \",sentiment_analysis(sentiment))\n",
    "print(\"\\nRecommended songs: \",recommendation_system(score))"
   ]
  }
 ],
 "metadata": {
  "kernelspec": {
   "display_name": "Python 3",
   "language": "python",
   "name": "python3"
  },
  "language_info": {
   "codemirror_mode": {
    "name": "ipython",
    "version": 3
   },
   "file_extension": ".py",
   "mimetype": "text/x-python",
   "name": "python",
   "nbconvert_exporter": "python",
   "pygments_lexer": "ipython3",
   "version": "3.8.8"
  }
 },
 "nbformat": 4,
 "nbformat_minor": 5
}
