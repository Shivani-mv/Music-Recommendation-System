{
 "cells": [
  {
   "cell_type": "markdown",
   "id": "910dbbba",
   "metadata": {},
   "source": [
    "# Twitter Scrapping"
   ]
  },
  {
   "cell_type": "code",
   "execution_count": 1,
   "id": "c4bf91a8",
   "metadata": {},
   "outputs": [],
   "source": [
    "from time import sleep\n",
    "from selenium.webdriver.common.keys import Keys\n",
    "from selenium.common.exceptions import NoSuchElementException, TimeoutException\n",
    "from selenium.webdriver.support.ui import WebDriverWait\n",
    "from selenium.webdriver.support import expected_conditions as EC\n",
    "from selenium.common import exceptions\n",
    "from selenium.webdriver.common.by import By\n",
    "from selenium.webdriver import Chrome\n",
    "import nltk\n",
    "from nltk.corpus import stopwords"
   ]
  },
  {
   "cell_type": "code",
   "execution_count": 2,
   "id": "87bfd4e3",
   "metadata": {},
   "outputs": [],
   "source": [
    "driver = Chrome()\n",
    "driver.get('https://www.twitter.com/login')"
   ]
  },
  {
   "cell_type": "code",
   "execution_count": 3,
   "id": "bce555a2",
   "metadata": {},
   "outputs": [],
   "source": [
    "def save_tweet_data_to_text(records, filepath, mode='a+'):\n",
    "    with open(filepath, mode, encoding=\"utf-8\",errors=\"ignore\") as f:\n",
    "        if records:\n",
    "            f.write(records)\n",
    "            \n",
    "            \n",
    "def stop_words_removal(tweets):\n",
    "    array = []\n",
    "    for i in tweets:\n",
    "        #sentiment = i[1]\n",
    "        stop = set(stopwords.words('english')) \n",
    "        filtered_words = [word for word in i[0].split() if word not in stop]\n",
    "        #combine = (filtered_words , sentiment)\n",
    "    array.append(filtered_words)\n",
    "    print(array)"
   ]
  },
  {
   "cell_type": "code",
   "execution_count": 4,
   "id": "bf146730",
   "metadata": {},
   "outputs": [],
   "source": [
    "#username\n",
    "user = 'shmv18cs@cmrit.ac.in'\n",
    "username = WebDriverWait(driver, 10).until(EC.element_to_be_clickable((By.NAME, \"text\")))\n",
    "username.send_keys(\"shmv18cs@cmrit.ac.in\")\n",
    "username.send_keys(Keys.RETURN)\n",
    "sleep(3)\n",
    "\n",
    "#Phone number\n",
    "try:\n",
    "    phno = WebDriverWait(driver, 10).until(EC.element_to_be_clickable((By.NAME, \"text\")))\n",
    "    phno.send_keys('9663318538')\n",
    "    phno.send_keys(Keys.RETURN)\n",
    "except:\n",
    "    pass\n",
    "    \n",
    "#Password\n",
    "password = WebDriverWait(driver, 10).until(EC.element_to_be_clickable((By.NAME, \"password\")))\n",
    "password.send_keys(\"shivani123\")\n",
    "password.send_keys(Keys.RETURN)\n",
    "sleep(1)\n",
    "\n",
    "#Search engine\n",
    "search_term = user.replace(\"@cmrit.ac.in\",\"\")\n",
    "search_input = WebDriverWait(driver, 10).until(EC.visibility_of_element_located(\n",
    "    (By.XPATH,\"//div/input[@data-testid='SearchBox_Search_Input']\")))\n",
    "search_input.clear()\n",
    "search_input.send_keys(search_term + Keys.ENTER)"
   ]
  },
  {
   "cell_type": "code",
   "execution_count": 5,
   "id": "4d54475d",
   "metadata": {},
   "outputs": [],
   "source": [
    "driver.find_element_by_link_text('Latest').click()\n",
    "#WebDriverWait(driver,10).until(EC.presence_of_element_located((By.CSS_SELECTOR,\"a[@href='/search?q=+search_term+\\\"&src=typed_query&f=live']\"))).click()"
   ]
  },
  {
   "cell_type": "code",
   "execution_count": 6,
   "id": "7f58c2ca",
   "metadata": {},
   "outputs": [
    {
     "name": "stdout",
     "output_type": "stream",
     "text": [
      "Tweet:  Nothing hurts more than being disappointed by the one person who you thought would never hurt you.\n",
      "Cleaned Tweet:  nothing hurts more than being disappointed one person who you thought would never hurt you\n"
     ]
    },
    {
     "name": "stderr",
     "output_type": "stream",
     "text": [
      "<ipython-input-6-755b33e7170d>:14: DeprecationWarning: `np.float` is a deprecated alias for the builtin `float`. To silence this warning, use `float` by itself. Doing this will not modify any behavior and is safe. If you specifically wanted the numpy scalar type, use `np.float64` here.\n",
      "Deprecated in NumPy 1.20; for more details and guidance: https://numpy.org/devdocs/release/1.20.0-notes.html#deprecations\n",
      "  if type(tweets) == np.float:\n"
     ]
    }
   ],
   "source": [
    "try:\n",
    "    tweets = WebDriverWait(driver,10).until(EC.presence_of_element_located((By.CSS_SELECTOR,\"div[data-testid='tweetText'] span[class='css-901oao css-16my406 r-poiln3 r-bcqeeo r-qvutc0']\"))).text\n",
    "    print(\"Tweet: \",tweets)\n",
    "except TimeoutException:\n",
    "    print(\"Couldn't detect any tweets\")\n",
    "\n",
    "\n",
    "import numpy as np\n",
    "import re\n",
    "\n",
    "def clean_tweet(tweets):\n",
    "    stopwords = [\"for\", \"on\", \"an\", \"a\", \"of\", \"and\", \"in\", \"the\", \"to\", \"from\", \"by\", \"is\", \"if\", \"it\", \"so\", \n",
    "                 \"because\", \"or\"]\n",
    "    if type(tweets) == np.float:\n",
    "        return \"\"\n",
    "    temp = tweets.lower()\n",
    "    temp = re.sub(\"'\", \"\", temp) # to avoid removing contractions in english\n",
    "    temp = re.sub(\"@[A-Za-z0-9_]+\",\"\", temp)\n",
    "    temp = re.sub(\"#[A-Za-z0-9_]+\",\"\", temp)\n",
    "    temp = re.sub(r'http\\S+', '', temp)\n",
    "    temp = re.sub('[()!?]', ' ', temp)\n",
    "    temp = re.sub('\\[.*?\\]',' ', temp)\n",
    "    temp = re.sub(\"[^a-z0-9]\",\" \", temp)\n",
    "    temp = temp.split()\n",
    "    temp = [w for w in temp if not w in stopwords]\n",
    "    temp = \" \".join(word for word in temp)\n",
    "    return temp\n",
    "tweets=clean_tweet(tweets)\n",
    "print(\"Cleaned Tweet: \",tweets)\n",
    "save_tweet_data_to_text(tweets, 'sentiment.txt','w')\n",
    "driver.quit()"
   ]
  },
  {
   "cell_type": "code",
   "execution_count": null,
   "id": "8f660e5b",
   "metadata": {},
   "outputs": [],
   "source": []
  }
 ],
 "metadata": {
  "kernelspec": {
   "display_name": "Python 3",
   "language": "python",
   "name": "python3"
  },
  "language_info": {
   "codemirror_mode": {
    "name": "ipython",
    "version": 3
   },
   "file_extension": ".py",
   "mimetype": "text/x-python",
   "name": "python",
   "nbconvert_exporter": "python",
   "pygments_lexer": "ipython3",
   "version": "3.8.8"
  }
 },
 "nbformat": 4,
 "nbformat_minor": 5
}
